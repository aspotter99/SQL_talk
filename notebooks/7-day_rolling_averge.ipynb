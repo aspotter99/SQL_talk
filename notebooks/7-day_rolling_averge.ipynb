{
 "cells": [
  {
   "cell_type": "code",
   "execution_count": 1,
   "metadata": {},
   "outputs": [],
   "source": [
    "#import pandas and sqlite\n",
    "import pandas as pd\n",
    "import sqlite3 as sl"
   ]
  },
  {
   "cell_type": "code",
   "execution_count": 2,
   "metadata": {},
   "outputs": [],
   "source": [
    "#connecct to database object\n",
    "conn = sl.connect('NYT_covid.db')\n",
    "c = conn.cursor()"
   ]
  },
  {
   "cell_type": "code",
   "execution_count": 3,
   "metadata": {},
   "outputs": [],
   "source": [
    "#update counties table with most recent data\n",
    "counties = pd.read_csv('https://raw.githubusercontent.com/nytimes/covid-19-data/master/us-counties.csv', index_col=0, encoding='latin-1')\n",
    "\n",
    "c.execute('DROP TABLE IF EXISTS counties')\n",
    "c.execute('CREATE TABLE counties (date datetime, county str, state str, fips str, cases int, deaths int, confirmed_cases int, confirmed_deaths int, probable_cases int, probable_deaths int)')\n",
    "conn.commit()\n",
    "\n",
    "counties.to_sql('counties',conn, if_exists='replace')"
   ]
  },
  {
   "cell_type": "code",
   "execution_count": 4,
   "metadata": {},
   "outputs": [
    {
     "name": "stdout",
     "output_type": "stream",
     "text": [
      "deaths\n",
      "mask_use\n",
      "states\n",
      "us\n",
      "election\n",
      "regions\n",
      "counties\n"
     ]
    }
   ],
   "source": [
    "#confirm tables present\n",
    "res = conn.execute(\"SELECT name FROM sqlite_master WHERE type='table';\")\n",
    "for name in res:\n",
    "    print (name[0])"
   ]
  },
  {
   "cell_type": "code",
   "execution_count": 5,
   "metadata": {},
   "outputs": [
    {
     "data": {
      "text/plain": [
       "Index(['State', 'census_bureau_region', 'census_bureau_division',\n",
       "       'standard_federal_region', 'circiut_court_of_appeals',\n",
       "       'bureau_economic_analysys', 'Unnamed: 6', 'Unnamed: 7', 'Unnamed: 8'],\n",
       "      dtype='object')"
      ]
     },
     "execution_count": 5,
     "metadata": {},
     "output_type": "execute_result"
    }
   ],
   "source": [
    "df = pd.read_sql('''select * from regions''',conn)\n",
    "df.columns"
   ]
  },
  {
   "cell_type": "code",
   "execution_count": 6,
   "metadata": {},
   "outputs": [
    {
     "data": {
      "text/plain": [
       "Index(['date', 'county', 'state', 'fips', 'cases', 'deaths'], dtype='object')"
      ]
     },
     "execution_count": 6,
     "metadata": {},
     "output_type": "execute_result"
    }
   ],
   "source": [
    "df = pd.read_sql('''select * from counties''',conn)\n",
    "df.columns"
   ]
  },
  {
   "cell_type": "code",
   "execution_count": 7,
   "metadata": {},
   "outputs": [
    {
     "data": {
      "text/html": [
       "<div>\n",
       "<style scoped>\n",
       "    .dataframe tbody tr th:only-of-type {\n",
       "        vertical-align: middle;\n",
       "    }\n",
       "\n",
       "    .dataframe tbody tr th {\n",
       "        vertical-align: top;\n",
       "    }\n",
       "\n",
       "    .dataframe thead th {\n",
       "        text-align: right;\n",
       "    }\n",
       "</style>\n",
       "<table border=\"1\" class=\"dataframe\">\n",
       "  <thead>\n",
       "    <tr style=\"text-align: right;\">\n",
       "      <th></th>\n",
       "      <th>date</th>\n",
       "      <th>bea_region</th>\n",
       "      <th>state</th>\n",
       "      <th>county</th>\n",
       "      <th>new_cases</th>\n",
       "      <th>cumulative_cases</th>\n",
       "      <th>7-day_avg_new</th>\n",
       "    </tr>\n",
       "  </thead>\n",
       "  <tbody>\n",
       "    <tr>\n",
       "      <th>0</th>\n",
       "      <td>2020-03-20</td>\n",
       "      <td>Great Lakes</td>\n",
       "      <td>Illinois</td>\n",
       "      <td>Adams</td>\n",
       "      <td>NaN</td>\n",
       "      <td>1</td>\n",
       "      <td>NaN</td>\n",
       "    </tr>\n",
       "    <tr>\n",
       "      <th>1</th>\n",
       "      <td>2020-03-21</td>\n",
       "      <td>Great Lakes</td>\n",
       "      <td>Illinois</td>\n",
       "      <td>Adams</td>\n",
       "      <td>0.0</td>\n",
       "      <td>1</td>\n",
       "      <td>0.000000</td>\n",
       "    </tr>\n",
       "    <tr>\n",
       "      <th>2</th>\n",
       "      <td>2020-03-22</td>\n",
       "      <td>Great Lakes</td>\n",
       "      <td>Illinois</td>\n",
       "      <td>Adams</td>\n",
       "      <td>0.0</td>\n",
       "      <td>1</td>\n",
       "      <td>0.000000</td>\n",
       "    </tr>\n",
       "    <tr>\n",
       "      <th>3</th>\n",
       "      <td>2020-03-23</td>\n",
       "      <td>Great Lakes</td>\n",
       "      <td>Illinois</td>\n",
       "      <td>Adams</td>\n",
       "      <td>0.0</td>\n",
       "      <td>1</td>\n",
       "      <td>0.000000</td>\n",
       "    </tr>\n",
       "    <tr>\n",
       "      <th>4</th>\n",
       "      <td>2020-03-24</td>\n",
       "      <td>Great Lakes</td>\n",
       "      <td>Illinois</td>\n",
       "      <td>Adams</td>\n",
       "      <td>0.0</td>\n",
       "      <td>1</td>\n",
       "      <td>0.000000</td>\n",
       "    </tr>\n",
       "    <tr>\n",
       "      <th>...</th>\n",
       "      <td>...</td>\n",
       "      <td>...</td>\n",
       "      <td>...</td>\n",
       "      <td>...</td>\n",
       "      <td>...</td>\n",
       "      <td>...</td>\n",
       "      <td>...</td>\n",
       "    </tr>\n",
       "    <tr>\n",
       "      <th>97242</th>\n",
       "      <td>2020-10-30</td>\n",
       "      <td>Great Lakes</td>\n",
       "      <td>Wisconsin</td>\n",
       "      <td>Wood</td>\n",
       "      <td>65.0</td>\n",
       "      <td>1947</td>\n",
       "      <td>46.857143</td>\n",
       "    </tr>\n",
       "    <tr>\n",
       "      <th>97243</th>\n",
       "      <td>2020-10-31</td>\n",
       "      <td>Great Lakes</td>\n",
       "      <td>Wisconsin</td>\n",
       "      <td>Wood</td>\n",
       "      <td>93.0</td>\n",
       "      <td>2040</td>\n",
       "      <td>55.142857</td>\n",
       "    </tr>\n",
       "    <tr>\n",
       "      <th>97244</th>\n",
       "      <td>2020-11-01</td>\n",
       "      <td>Great Lakes</td>\n",
       "      <td>Wisconsin</td>\n",
       "      <td>Wood</td>\n",
       "      <td>16.0</td>\n",
       "      <td>2056</td>\n",
       "      <td>48.857143</td>\n",
       "    </tr>\n",
       "    <tr>\n",
       "      <th>97245</th>\n",
       "      <td>2020-11-02</td>\n",
       "      <td>Great Lakes</td>\n",
       "      <td>Wisconsin</td>\n",
       "      <td>Wood</td>\n",
       "      <td>29.0</td>\n",
       "      <td>2085</td>\n",
       "      <td>51.000000</td>\n",
       "    </tr>\n",
       "    <tr>\n",
       "      <th>97246</th>\n",
       "      <td>2020-11-03</td>\n",
       "      <td>Great Lakes</td>\n",
       "      <td>Wisconsin</td>\n",
       "      <td>Wood</td>\n",
       "      <td>87.0</td>\n",
       "      <td>2172</td>\n",
       "      <td>56.571429</td>\n",
       "    </tr>\n",
       "  </tbody>\n",
       "</table>\n",
       "<p>97247 rows × 7 columns</p>\n",
       "</div>"
      ],
      "text/plain": [
       "             date   bea_region      state county  new_cases  cumulative_cases  \\\n",
       "0      2020-03-20  Great Lakes   Illinois  Adams        NaN                 1   \n",
       "1      2020-03-21  Great Lakes   Illinois  Adams        0.0                 1   \n",
       "2      2020-03-22  Great Lakes   Illinois  Adams        0.0                 1   \n",
       "3      2020-03-23  Great Lakes   Illinois  Adams        0.0                 1   \n",
       "4      2020-03-24  Great Lakes   Illinois  Adams        0.0                 1   \n",
       "...           ...          ...        ...    ...        ...               ...   \n",
       "97242  2020-10-30  Great Lakes  Wisconsin   Wood       65.0              1947   \n",
       "97243  2020-10-31  Great Lakes  Wisconsin   Wood       93.0              2040   \n",
       "97244  2020-11-01  Great Lakes  Wisconsin   Wood       16.0              2056   \n",
       "97245  2020-11-02  Great Lakes  Wisconsin   Wood       29.0              2085   \n",
       "97246  2020-11-03  Great Lakes  Wisconsin   Wood       87.0              2172   \n",
       "\n",
       "       7-day_avg_new  \n",
       "0                NaN  \n",
       "1           0.000000  \n",
       "2           0.000000  \n",
       "3           0.000000  \n",
       "4           0.000000  \n",
       "...              ...  \n",
       "97242      46.857143  \n",
       "97243      55.142857  \n",
       "97244      48.857143  \n",
       "97245      51.000000  \n",
       "97246      56.571429  \n",
       "\n",
       "[97247 rows x 7 columns]"
      ]
     },
     "execution_count": 7,
     "metadata": {},
     "output_type": "execute_result"
    }
   ],
   "source": [
    "df = pd.read_sql('''WITH cte as (SELECT date, \n",
    "                                  r.bureau_economic_analysys as 'bea_region', c.state, c.county, \n",
    "                                  cases - LAG (cases,1) OVER (PARTITION BY fips ORDER BY date) as 'new_cases',\n",
    "                                  cases as 'cumulative_cases'\n",
    "                    FROM     counties c\n",
    "                    JOIN     regions r on c.state = r.state \n",
    "                             AND r.bureau_economic_analysys = 'Great Lakes'\n",
    "                    ORDER BY c.state, county)\n",
    "                    \n",
    "SELECT date,\n",
    "       bea_region, \n",
    "       state, \n",
    "       county, \n",
    "       new_cases, \n",
    "       cumulative_cases,\n",
    "       AVG(new_cases) OVER (PARTITION BY state, county ORDER BY date ASC rows 6 PRECEDING) as '7-day_avg_new'\n",
    "FROM cte\n",
    "ORDER BY state, county, date''',conn)\n",
    "df"
   ]
  }
 ],
 "metadata": {
  "kernelspec": {
   "display_name": "amanda",
   "language": "python",
   "name": "amanda"
  },
  "language_info": {
   "codemirror_mode": {
    "name": "ipython",
    "version": 3
   },
   "file_extension": ".py",
   "mimetype": "text/x-python",
   "name": "python",
   "nbconvert_exporter": "python",
   "pygments_lexer": "ipython3",
   "version": "3.8.2"
  }
 },
 "nbformat": 4,
 "nbformat_minor": 4
}
