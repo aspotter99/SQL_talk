{
 "cells": [
  {
   "cell_type": "code",
   "execution_count": 1,
   "metadata": {},
   "outputs": [],
   "source": [
    "#import pandas and sqlite\n",
    "import pandas as pd\n",
    "import sqlite3 as sl"
   ]
  },
  {
   "cell_type": "code",
   "execution_count": 2,
   "metadata": {},
   "outputs": [],
   "source": [
    "#connecct to database object\n",
    "conn = sl.connect('NYT_covid.db')\n",
    "c = conn.cursor()"
   ]
  },
  {
   "cell_type": "code",
   "execution_count": 3,
   "metadata": {},
   "outputs": [],
   "source": [
    "#update counties table with most recent data\n",
    "counties = pd.read_csv('https://raw.githubusercontent.com/nytimes/covid-19-data/master/us-counties.csv', index_col=0, encoding='latin-1')\n",
    "\n",
    "c.execute('DROP TABLE IF EXISTS counties')\n",
    "c.execute('CREATE TABLE counties (date datetime, county str, state str, fips str, cases int, deaths int, confirmed_cases int, confirmed_deaths int, probable_cases int, probable_deaths int)')\n",
    "conn.commit()\n",
    "\n",
    "counties.to_sql('counties',conn, if_exists='replace')"
   ]
  },
  {
   "cell_type": "code",
   "execution_count": 4,
   "metadata": {},
   "outputs": [
    {
     "name": "stdout",
     "output_type": "stream",
     "text": [
      "deaths\n",
      "mask_use\n",
      "us\n",
      "election\n",
      "states\n",
      "regions\n",
      "counties\n"
     ]
    }
   ],
   "source": [
    "#confirm tables present\n",
    "res = conn.execute(\"SELECT name FROM sqlite_master WHERE type='table';\")\n",
    "for name in res:\n",
    "    print (name[0])"
   ]
  },
  {
   "cell_type": "code",
   "execution_count": 5,
   "metadata": {},
   "outputs": [
    {
     "data": {
      "text/plain": [
       "Index(['State', 'census_bureau_region', 'census_bureau_division',\n",
       "       'standard_federal_region', 'circiut_court_of_appeals',\n",
       "       'bureau_economic_analysis'],\n",
       "      dtype='object')"
      ]
     },
     "execution_count": 5,
     "metadata": {},
     "output_type": "execute_result"
    }
   ],
   "source": [
    "df = pd.read_sql('''select * from regions''',conn)\n",
    "df.columns"
   ]
  },
  {
   "cell_type": "code",
   "execution_count": 6,
   "metadata": {},
   "outputs": [
    {
     "data": {
      "text/plain": [
       "Index(['date', 'county', 'state', 'fips', 'cases', 'deaths'], dtype='object')"
      ]
     },
     "execution_count": 6,
     "metadata": {},
     "output_type": "execute_result"
    }
   ],
   "source": [
    "df = pd.read_sql('''select * from counties''',conn)\n",
    "df.columns"
   ]
  },
  {
   "cell_type": "code",
   "execution_count": 9,
   "metadata": {},
   "outputs": [
    {
     "data": {
      "text/html": [
       "<div>\n",
       "<style scoped>\n",
       "    .dataframe tbody tr th:only-of-type {\n",
       "        vertical-align: middle;\n",
       "    }\n",
       "\n",
       "    .dataframe tbody tr th {\n",
       "        vertical-align: top;\n",
       "    }\n",
       "\n",
       "    .dataframe thead th {\n",
       "        text-align: right;\n",
       "    }\n",
       "</style>\n",
       "<table border=\"1\" class=\"dataframe\">\n",
       "  <thead>\n",
       "    <tr style=\"text-align: right;\">\n",
       "      <th></th>\n",
       "      <th>date</th>\n",
       "      <th>bea_region</th>\n",
       "      <th>state</th>\n",
       "      <th>county</th>\n",
       "      <th>new_cases</th>\n",
       "      <th>cumulative_cases</th>\n",
       "      <th>7-day_avg_new</th>\n",
       "    </tr>\n",
       "  </thead>\n",
       "  <tbody>\n",
       "    <tr>\n",
       "      <th>0</th>\n",
       "      <td>2020-03-20</td>\n",
       "      <td>Great Lakes</td>\n",
       "      <td>Illinois</td>\n",
       "      <td>Adams</td>\n",
       "      <td>NaN</td>\n",
       "      <td>1</td>\n",
       "      <td>NaN</td>\n",
       "    </tr>\n",
       "    <tr>\n",
       "      <th>1</th>\n",
       "      <td>2020-03-21</td>\n",
       "      <td>Great Lakes</td>\n",
       "      <td>Illinois</td>\n",
       "      <td>Adams</td>\n",
       "      <td>0.0</td>\n",
       "      <td>1</td>\n",
       "      <td>0.000000</td>\n",
       "    </tr>\n",
       "    <tr>\n",
       "      <th>2</th>\n",
       "      <td>2020-03-22</td>\n",
       "      <td>Great Lakes</td>\n",
       "      <td>Illinois</td>\n",
       "      <td>Adams</td>\n",
       "      <td>0.0</td>\n",
       "      <td>1</td>\n",
       "      <td>0.000000</td>\n",
       "    </tr>\n",
       "    <tr>\n",
       "      <th>3</th>\n",
       "      <td>2020-03-23</td>\n",
       "      <td>Great Lakes</td>\n",
       "      <td>Illinois</td>\n",
       "      <td>Adams</td>\n",
       "      <td>0.0</td>\n",
       "      <td>1</td>\n",
       "      <td>0.000000</td>\n",
       "    </tr>\n",
       "    <tr>\n",
       "      <th>4</th>\n",
       "      <td>2020-03-24</td>\n",
       "      <td>Great Lakes</td>\n",
       "      <td>Illinois</td>\n",
       "      <td>Adams</td>\n",
       "      <td>0.0</td>\n",
       "      <td>1</td>\n",
       "      <td>0.000000</td>\n",
       "    </tr>\n",
       "    <tr>\n",
       "      <th>...</th>\n",
       "      <td>...</td>\n",
       "      <td>...</td>\n",
       "      <td>...</td>\n",
       "      <td>...</td>\n",
       "      <td>...</td>\n",
       "      <td>...</td>\n",
       "      <td>...</td>\n",
       "    </tr>\n",
       "    <tr>\n",
       "      <th>104252</th>\n",
       "      <td>2020-11-15</td>\n",
       "      <td>Great Lakes</td>\n",
       "      <td>Wisconsin</td>\n",
       "      <td>Wood</td>\n",
       "      <td>29.0</td>\n",
       "      <td>3291</td>\n",
       "      <td>99.571429</td>\n",
       "    </tr>\n",
       "    <tr>\n",
       "      <th>104253</th>\n",
       "      <td>2020-11-16</td>\n",
       "      <td>Great Lakes</td>\n",
       "      <td>Wisconsin</td>\n",
       "      <td>Wood</td>\n",
       "      <td>29.0</td>\n",
       "      <td>3320</td>\n",
       "      <td>90.000000</td>\n",
       "    </tr>\n",
       "    <tr>\n",
       "      <th>104254</th>\n",
       "      <td>2020-11-17</td>\n",
       "      <td>Great Lakes</td>\n",
       "      <td>Wisconsin</td>\n",
       "      <td>Wood</td>\n",
       "      <td>86.0</td>\n",
       "      <td>3406</td>\n",
       "      <td>84.857143</td>\n",
       "    </tr>\n",
       "    <tr>\n",
       "      <th>104255</th>\n",
       "      <td>2020-11-18</td>\n",
       "      <td>Great Lakes</td>\n",
       "      <td>Wisconsin</td>\n",
       "      <td>Wood</td>\n",
       "      <td>206.0</td>\n",
       "      <td>3612</td>\n",
       "      <td>105.857143</td>\n",
       "    </tr>\n",
       "    <tr>\n",
       "      <th>104256</th>\n",
       "      <td>2020-11-19</td>\n",
       "      <td>Great Lakes</td>\n",
       "      <td>Wisconsin</td>\n",
       "      <td>Wood</td>\n",
       "      <td>115.0</td>\n",
       "      <td>3727</td>\n",
       "      <td>107.857143</td>\n",
       "    </tr>\n",
       "  </tbody>\n",
       "</table>\n",
       "<p>104257 rows × 7 columns</p>\n",
       "</div>"
      ],
      "text/plain": [
       "              date   bea_region      state county  new_cases  \\\n",
       "0       2020-03-20  Great Lakes   Illinois  Adams        NaN   \n",
       "1       2020-03-21  Great Lakes   Illinois  Adams        0.0   \n",
       "2       2020-03-22  Great Lakes   Illinois  Adams        0.0   \n",
       "3       2020-03-23  Great Lakes   Illinois  Adams        0.0   \n",
       "4       2020-03-24  Great Lakes   Illinois  Adams        0.0   \n",
       "...            ...          ...        ...    ...        ...   \n",
       "104252  2020-11-15  Great Lakes  Wisconsin   Wood       29.0   \n",
       "104253  2020-11-16  Great Lakes  Wisconsin   Wood       29.0   \n",
       "104254  2020-11-17  Great Lakes  Wisconsin   Wood       86.0   \n",
       "104255  2020-11-18  Great Lakes  Wisconsin   Wood      206.0   \n",
       "104256  2020-11-19  Great Lakes  Wisconsin   Wood      115.0   \n",
       "\n",
       "        cumulative_cases  7-day_avg_new  \n",
       "0                      1            NaN  \n",
       "1                      1       0.000000  \n",
       "2                      1       0.000000  \n",
       "3                      1       0.000000  \n",
       "4                      1       0.000000  \n",
       "...                  ...            ...  \n",
       "104252              3291      99.571429  \n",
       "104253              3320      90.000000  \n",
       "104254              3406      84.857143  \n",
       "104255              3612     105.857143  \n",
       "104256              3727     107.857143  \n",
       "\n",
       "[104257 rows x 7 columns]"
      ]
     },
     "execution_count": 9,
     "metadata": {},
     "output_type": "execute_result"
    }
   ],
   "source": [
    "df = pd.read_sql('''WITH cte as (SELECT date, \n",
    "                                  r.bureau_economic_analysis as 'bea_region', c.state, c.county, \n",
    "                                  cases - LAG (cases,1) OVER (PARTITION BY fips ORDER BY date) as 'new_cases',\n",
    "                                  cases as 'cumulative_cases'\n",
    "                    FROM     counties c\n",
    "                    JOIN     regions r on c.state = r.state \n",
    "                             AND r.bureau_economic_analysis = 'Great Lakes'\n",
    "                    ORDER BY c.state, county)\n",
    "                    \n",
    "SELECT date,\n",
    "       bea_region, \n",
    "       state, \n",
    "       county, \n",
    "       new_cases, \n",
    "       cumulative_cases,\n",
    "       AVG(new_cases) OVER (PARTITION BY state, county ORDER BY date ASC rows 6 PRECEDING) as '7-day_avg_new'\n",
    "FROM cte\n",
    "ORDER BY state, county, date''',conn)\n",
    "df"
   ]
  },
  {
   "cell_type": "code",
   "execution_count": null,
   "metadata": {},
   "outputs": [],
   "source": []
  }
 ],
 "metadata": {
  "kernelspec": {
   "display_name": "amanda",
   "language": "python",
   "name": "amanda"
  },
  "language_info": {
   "codemirror_mode": {
    "name": "ipython",
    "version": 3
   },
   "file_extension": ".py",
   "mimetype": "text/x-python",
   "name": "python",
   "nbconvert_exporter": "python",
   "pygments_lexer": "ipython3",
   "version": "3.8.2"
  }
 },
 "nbformat": 4,
 "nbformat_minor": 4
}
