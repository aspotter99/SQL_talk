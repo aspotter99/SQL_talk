{
 "cells": [
  {
   "cell_type": "code",
   "execution_count": 11,
   "metadata": {},
   "outputs": [
    {
     "data": {
      "text/plain": [
       "<function __main__.consecutives(nums)>"
      ]
     },
     "execution_count": 11,
     "metadata": {},
     "output_type": "execute_result"
    }
   ],
   "source": [
    "#write a funcgtion to return consecutive values from a list into a list of tuples where the tuple is the first and last value in a consecutive series sorted \n",
    "#as numbers in the list are read left to right, if the number is the next in the sequence it is skipped\n",
    "nums = [1,2,3,4,99,10,11,7,8]\n",
    "\n",
    "\n",
    "def consecutives(nums):\n",
    "    a = nums[0]\n",
    "    b = a\n",
    "    output = []\n",
    "    for c in nums[1:]:\n",
    "        if (c-b > 1) | (c < b):\n",
    "            output.append(a)\n",
    "            a = c\n",
    "            b = c\n",
    "        else: \n",
    "            b = c\n",
    "    output.append[(a,b)]\n",
    "    return sorted(output)\n",
    "\n",
    "consecutives\n",
    "            "
   ]
  },
  {
   "cell_type": "code",
   "execution_count": 16,
   "metadata": {},
   "outputs": [],
   "source": [
    "def consecutives1(nums):\n",
    "    i, j = 0, 0\n",
    "    output = []\n",
    "    while j < len(nums):\n",
    "        if j == len(nums) -1:\n",
    "            output.append((nums[i], nums[j]))\n",
    "            return sorted(output)\n",
    "        if nums [j] + 1 == nums[j +1]:\n",
    "            j += 1\n",
    "        else: output.append((nums[i], nums[j]))\n",
    "        j +=1\n",
    "        i = j\n",
    "                    \n",
    "consecutives1(nums)"
   ]
  },
  {
   "cell_type": "code",
   "execution_count": null,
   "metadata": {},
   "outputs": [],
   "source": []
  }
 ],
 "metadata": {
  "kernelspec": {
   "display_name": "amanda",
   "language": "python",
   "name": "amanda"
  },
  "language_info": {
   "codemirror_mode": {
    "name": "ipython",
    "version": 3
   },
   "file_extension": ".py",
   "mimetype": "text/x-python",
   "name": "python",
   "nbconvert_exporter": "python",
   "pygments_lexer": "ipython3",
   "version": "3.8.2"
  }
 },
 "nbformat": 4,
 "nbformat_minor": 4
}
